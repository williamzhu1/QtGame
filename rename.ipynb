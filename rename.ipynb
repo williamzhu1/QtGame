{
 "cells": [
  {
   "cell_type": "code",
   "execution_count": 15,
   "metadata": {},
   "outputs": [
    {
     "name": "stdout",
     "output_type": "stream",
     "text": [
      "Renamed: images/xenemy_wraith_attack/Explosion_5.png -> images/xenemy_wraith_attack/5.png\n",
      "Renamed: images/xenemy_wraith_attack/Explosion_4.png -> images/xenemy_wraith_attack/4.png\n",
      "Renamed: images/xenemy_wraith_attack/Explosion_6.png -> images/xenemy_wraith_attack/6.png\n",
      "Renamed: images/xenemy_wraith_attack/Explosion_7.png -> images/xenemy_wraith_attack/7.png\n",
      "Renamed: images/xenemy_wraith_attack/Explosion_3.png -> images/xenemy_wraith_attack/3.png\n",
      "Renamed: images/xenemy_wraith_attack/Explosion_2.png -> images/xenemy_wraith_attack/2.png\n",
      "Renamed: images/xenemy_wraith_attack/Explosion_1.png -> images/xenemy_wraith_attack/1.png\n",
      "Renamed: images/xenemy_wraith_attack/Explosion_9.png -> images/xenemy_wraith_attack/9.png\n",
      "Renamed: images/xenemy_wraith_attack/Explosion_10.png -> images/xenemy_wraith_attack/10.png\n",
      "Renamed: images/xenemy_wraith_attack/Explosion_8.png -> images/xenemy_wraith_attack/8.png\n"
     ]
    }
   ],
   "source": [
    "import os\n",
    "\n",
    "# Define the directory where PNG files are located\n",
    "base_dir = \"images/xenemy_wraith_attack\"\n",
    "\n",
    "# Function to rename PNG files by extracting the last two digits as the numeric suffix\n",
    "def rename_png_files(folder_path):\n",
    "    for root, _, files in os.walk(folder_path):\n",
    "        for file in files:\n",
    "            if file.lower().endswith(\".png\"):\n",
    "                # Split the filename by underscores and get the last part\n",
    "                parts = file.split(\"_\")\n",
    "                numeric_suffix = parts[-1].split(\".\")[0][-2:]\n",
    "\n",
    "                # Construct the new filename with the last two digits as the numeric suffix\n",
    "                new_filename = os.path.join(root, f\"{numeric_suffix}.png\")\n",
    "                old_filename = os.path.join(root, file)\n",
    "\n",
    "                # Rename the file\n",
    "                os.rename(old_filename, new_filename)\n",
    "                print(f\"Renamed: {old_filename} -> {new_filename}\")\n",
    "\n",
    "# Rename PNG files in all folders within the base directory\n",
    "rename_png_files(base_dir)\n"
   ]
  },
  {
   "cell_type": "code",
   "execution_count": null,
   "metadata": {},
   "outputs": [],
   "source": []
  }
 ],
 "metadata": {
  "kernelspec": {
   "display_name": "Python 3",
   "language": "python",
   "name": "python3"
  },
  "language_info": {
   "codemirror_mode": {
    "name": "ipython",
    "version": 3
   },
   "file_extension": ".py",
   "mimetype": "text/x-python",
   "name": "python",
   "nbconvert_exporter": "python",
   "pygments_lexer": "ipython3",
   "version": "3.11.6"
  }
 },
 "nbformat": 4,
 "nbformat_minor": 2
}
